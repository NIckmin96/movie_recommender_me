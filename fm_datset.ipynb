{
 "cells": [
  {
   "cell_type": "code",
   "execution_count": 2,
   "metadata": {},
   "outputs": [],
   "source": [
    "import pandas as pd\n",
    "import numpy as np\n",
    "from functools import reduce\n",
    "import random\n",
    "from tqdm import tqdm\n",
    "from scipy.sparse import csr_matrix, coo_matrix\n",
    "import time\n",
    "import pickle"
   ]
  },
  {
   "cell_type": "code",
   "execution_count": 3,
   "metadata": {},
   "outputs": [],
   "source": [
    "df = pd.read_csv('/opt/ml/input/data/train/train_ratings.csv')\n",
    "years = pd.read_csv('~/input/data/train/years.tsv', sep = '\\t')\n",
    "directors = pd.read_csv('~/input/data/train/directors.tsv', sep = '\\t')\n",
    "genres = pd.read_csv('~/input/data/train/genres.tsv', sep = '\\t')\n",
    "titles = pd.read_csv('~/input/data/train/titles.tsv', sep = '\\t')\n",
    "writers = pd.read_csv('~/input/data/train/writers.tsv', sep = '\\t')\n",
    "dfs = [df,years,directors,genres,writers]"
   ]
  },
  {
   "attachments": {},
   "cell_type": "markdown",
   "metadata": {},
   "source": [
    "# Negative Sampling"
   ]
  },
  {
   "cell_type": "code",
   "execution_count": 3,
   "metadata": {},
   "outputs": [],
   "source": [
    "interaction = df[['user','item']].values"
   ]
  },
  {
   "cell_type": "code",
   "execution_count": 4,
   "metadata": {},
   "outputs": [
    {
     "data": {
      "text/plain": [
       "array([[  11, 4643],\n",
       "       [  11,  170],\n",
       "       [  11,  531],\n",
       "       [  11,  616],\n",
       "       [  11, 2140],\n",
       "       [  11, 2722],\n",
       "       [  11, 2313],\n",
       "       [  11, 2688],\n",
       "       [  11, 2428],\n",
       "       [  11, 3113]])"
      ]
     },
     "execution_count": 4,
     "metadata": {},
     "output_type": "execute_result"
    }
   ],
   "source": [
    "interaction[:10]"
   ]
  },
  {
   "cell_type": "code",
   "execution_count": 5,
   "metadata": {},
   "outputs": [
    {
     "data": {
      "text/plain": [
       "5154471"
      ]
     },
     "execution_count": 5,
     "metadata": {},
     "output_type": "execute_result"
    }
   ],
   "source": [
    "len(interaction)"
   ]
  },
  {
   "cell_type": "code",
   "execution_count": 6,
   "metadata": {},
   "outputs": [],
   "source": [
    "users = interaction[:,0]\n",
    "items = interaction[:,1]"
   ]
  },
  {
   "cell_type": "code",
   "execution_count": 8,
   "metadata": {},
   "outputs": [],
   "source": [
    "interaction_mtx = csr_matrix(([1]*len(interaction), (users, items)), shape = (df['user'].max()+1, df['item'].max()+1))"
   ]
  },
  {
   "cell_type": "code",
   "execution_count": 9,
   "metadata": {},
   "outputs": [
    {
     "data": {
      "text/plain": [
       "(138494, 119146)"
      ]
     },
     "execution_count": 9,
     "metadata": {},
     "output_type": "execute_result"
    }
   ],
   "source": [
    "interaction_mtx.shape # 0-th row & 0-th is 0"
   ]
  },
  {
   "cell_type": "code",
   "execution_count": 12,
   "metadata": {},
   "outputs": [
    {
     "data": {
      "text/plain": [
       "numpy.int64"
      ]
     },
     "execution_count": 12,
     "metadata": {},
     "output_type": "execute_result"
    }
   ],
   "source": [
    "type(interaction_mtx[11,1])"
   ]
  },
  {
   "cell_type": "code",
   "execution_count": 18,
   "metadata": {},
   "outputs": [],
   "source": [
    "user_idx = df.user.astype('category').cat.codes.values\n",
    "item_idx = df.item.astype('category').cat.codes.values\n",
    "df['interaction'] = 1"
   ]
  },
  {
   "cell_type": "code",
   "execution_count": 24,
   "metadata": {},
   "outputs": [],
   "source": [
    "sparse_mtx = csr_matrix((df.interaction, (df.user, df.item)))"
   ]
  },
  {
   "cell_type": "code",
   "execution_count": 52,
   "metadata": {},
   "outputs": [
    {
     "name": "stderr",
     "output_type": "stream",
     "text": [
      "/opt/conda/lib/python3.8/site-packages/IPython/core/interactiveshell.py:3361: SparseEfficiencyWarning: Comparing a sparse matrix with 0 using == is inefficient, try using != instead.\n",
      "  exec(code_obj, self.user_global_ns, self.user_ns)\n"
     ]
    },
    {
     "data": {
      "text/plain": [
       "array([[    11,      0],\n",
       "       [    11,      2],\n",
       "       [    11,      3],\n",
       "       ...,\n",
       "       [    11, 119143],\n",
       "       [    11, 119144],\n",
       "       [    11, 119145]], dtype=int32)"
      ]
     },
     "execution_count": 52,
     "metadata": {},
     "output_type": "execute_result"
    }
   ],
   "source": [
    "tmp = np.argwhere(sparse_mtx[11]==0)\n",
    "tmp[:,0] = 11\n",
    "tmp"
   ]
  },
  {
   "cell_type": "code",
   "execution_count": 53,
   "metadata": {},
   "outputs": [
    {
     "name": "stderr",
     "output_type": "stream",
     "text": [
      "0it [00:00, ?it/s]/opt/conda/lib/python3.8/site-packages/IPython/core/interactiveshell.py:3361: SparseEfficiencyWarning: Comparing a sparse matrix with 0 using == is inefficient, try using != instead.\n",
      "  exec(code_obj, self.user_global_ns, self.user_ns)\n",
      "10001it [39:50,  3.57it/s]"
     ]
    },
    {
     "name": "stdout",
     "output_type": "stream",
     "text": [
      "time :  0.3899500370025635\n"
     ]
    },
    {
     "name": "stderr",
     "output_type": "stream",
     "text": [
      "12628it [53:07,  3.96it/s]\n"
     ]
    },
    {
     "ename": "KeyboardInterrupt",
     "evalue": "",
     "output_type": "error",
     "traceback": [
      "\u001b[0;31m---------------------------------------------------------------------------\u001b[0m",
      "\u001b[0;31mKeyboardInterrupt\u001b[0m                         Traceback (most recent call last)",
      "\u001b[1;32m/opt/ml/bk/fm_datset.ipynb Cell 23\u001b[0m in \u001b[0;36m<cell line: 2>\u001b[0;34m()\u001b[0m\n\u001b[1;32m      <a href='vscode-notebook-cell://ssh-remote%2Baistage3/opt/ml/bk/fm_datset.ipynb#X40sdnNjb2RlLXJlbW90ZQ%3D%3D?line=7'>8</a>\u001b[0m     neg_indices \u001b[39m=\u001b[39m zero_indices\u001b[39m.\u001b[39mtolist()\n\u001b[1;32m      <a href='vscode-notebook-cell://ssh-remote%2Baistage3/opt/ml/bk/fm_datset.ipynb#X40sdnNjb2RlLXJlbW90ZQ%3D%3D?line=8'>9</a>\u001b[0m \u001b[39melse\u001b[39;00m : \n\u001b[0;32m---> <a href='vscode-notebook-cell://ssh-remote%2Baistage3/opt/ml/bk/fm_datset.ipynb#X40sdnNjb2RlLXJlbW90ZQ%3D%3D?line=9'>10</a>\u001b[0m     neg_indices \u001b[39m=\u001b[39m random\u001b[39m.\u001b[39msample(zero_indices\u001b[39m.\u001b[39;49mtolist(), n_non_0)\n\u001b[1;32m     <a href='vscode-notebook-cell://ssh-remote%2Baistage3/opt/ml/bk/fm_datset.ipynb#X40sdnNjb2RlLXJlbW90ZQ%3D%3D?line=11'>12</a>\u001b[0m neg_samples\u001b[39m.\u001b[39mextend(neg_indices)\n\u001b[1;32m     <a href='vscode-notebook-cell://ssh-remote%2Baistage3/opt/ml/bk/fm_datset.ipynb#X40sdnNjb2RlLXJlbW90ZQ%3D%3D?line=12'>13</a>\u001b[0m end \u001b[39m=\u001b[39m time\u001b[39m.\u001b[39mtime()\n",
      "\u001b[0;31mKeyboardInterrupt\u001b[0m: "
     ]
    }
   ],
   "source": [
    "# neg_samples = []\n",
    "# for i,row in enumerate(sparse_mtx) : \n",
    "#     # start = time.time()\n",
    "#     n_non_0 = len(np.nonzero(row)[0])\n",
    "#     zero_indices = np.argwhere(row==0)\n",
    "#     zero_indices[:,0] = i\n",
    "#     if n_non_0 > len(zero_indices) : \n",
    "#         neg_indices = zero_indices.tolist()\n",
    "#     else : \n",
    "#         neg_indices = random.sample(zero_indices.tolist(), n_non_0)\n",
    "        \n",
    "#     neg_samples.extend(neg_indices)\n",
    "#     # end = time.time()\n",
    "#     # if (i!=0)&(i%10000 == 0) : \n",
    "#     #     print(\"time : \", end - start)"
   ]
  },
  {
   "cell_type": "code",
   "execution_count": 7,
   "metadata": {},
   "outputs": [
    {
     "data": {
      "text/html": [
       "<div>\n",
       "<style scoped>\n",
       "    .dataframe tbody tr th:only-of-type {\n",
       "        vertical-align: middle;\n",
       "    }\n",
       "\n",
       "    .dataframe tbody tr th {\n",
       "        vertical-align: top;\n",
       "    }\n",
       "\n",
       "    .dataframe thead th {\n",
       "        text-align: right;\n",
       "    }\n",
       "</style>\n",
       "<table border=\"1\" class=\"dataframe\">\n",
       "  <thead>\n",
       "    <tr style=\"text-align: right;\">\n",
       "      <th></th>\n",
       "      <th>user</th>\n",
       "      <th>item</th>\n",
       "      <th>time</th>\n",
       "      <th>year</th>\n",
       "      <th>director</th>\n",
       "      <th>genre</th>\n",
       "      <th>writer</th>\n",
       "    </tr>\n",
       "  </thead>\n",
       "  <tbody>\n",
       "    <tr>\n",
       "      <th>0</th>\n",
       "      <td>11</td>\n",
       "      <td>4643</td>\n",
       "      <td>1230782529</td>\n",
       "      <td>2001.0</td>\n",
       "      <td>nm0000318</td>\n",
       "      <td>Action</td>\n",
       "      <td>nm0099541</td>\n",
       "    </tr>\n",
       "    <tr>\n",
       "      <th>1</th>\n",
       "      <td>11</td>\n",
       "      <td>4643</td>\n",
       "      <td>1230782529</td>\n",
       "      <td>2001.0</td>\n",
       "      <td>nm0000318</td>\n",
       "      <td>Action</td>\n",
       "      <td>nm0115310</td>\n",
       "    </tr>\n",
       "    <tr>\n",
       "      <th>2</th>\n",
       "      <td>11</td>\n",
       "      <td>4643</td>\n",
       "      <td>1230782529</td>\n",
       "      <td>2001.0</td>\n",
       "      <td>nm0000318</td>\n",
       "      <td>Action</td>\n",
       "      <td>nm0465199</td>\n",
       "    </tr>\n",
       "    <tr>\n",
       "      <th>3</th>\n",
       "      <td>11</td>\n",
       "      <td>4643</td>\n",
       "      <td>1230782529</td>\n",
       "      <td>2001.0</td>\n",
       "      <td>nm0000318</td>\n",
       "      <td>Action</td>\n",
       "      <td>nm0742797</td>\n",
       "    </tr>\n",
       "    <tr>\n",
       "      <th>4</th>\n",
       "      <td>11</td>\n",
       "      <td>4643</td>\n",
       "      <td>1230782529</td>\n",
       "      <td>2001.0</td>\n",
       "      <td>nm0000318</td>\n",
       "      <td>Adventure</td>\n",
       "      <td>nm0099541</td>\n",
       "    </tr>\n",
       "  </tbody>\n",
       "</table>\n",
       "</div>"
      ],
      "text/plain": [
       "   user  item        time    year   director      genre     writer\n",
       "0    11  4643  1230782529  2001.0  nm0000318     Action  nm0099541\n",
       "1    11  4643  1230782529  2001.0  nm0000318     Action  nm0115310\n",
       "2    11  4643  1230782529  2001.0  nm0000318     Action  nm0465199\n",
       "3    11  4643  1230782529  2001.0  nm0000318     Action  nm0742797\n",
       "4    11  4643  1230782529  2001.0  nm0000318  Adventure  nm0099541"
      ]
     },
     "execution_count": 7,
     "metadata": {},
     "output_type": "execute_result"
    }
   ],
   "source": [
    "merge_df.head()"
   ]
  },
  {
   "cell_type": "code",
   "execution_count": 8,
   "metadata": {},
   "outputs": [
    {
     "data": {
      "text/html": [
       "<div>\n",
       "<style scoped>\n",
       "    .dataframe tbody tr th:only-of-type {\n",
       "        vertical-align: middle;\n",
       "    }\n",
       "\n",
       "    .dataframe tbody tr th {\n",
       "        vertical-align: top;\n",
       "    }\n",
       "\n",
       "    .dataframe thead th {\n",
       "        text-align: right;\n",
       "    }\n",
       "</style>\n",
       "<table border=\"1\" class=\"dataframe\">\n",
       "  <thead>\n",
       "    <tr style=\"text-align: right;\">\n",
       "      <th></th>\n",
       "      <th>user_idx</th>\n",
       "      <th>item_idx</th>\n",
       "      <th>time_idx</th>\n",
       "      <th>year_idx</th>\n",
       "      <th>director_idx</th>\n",
       "      <th>genre_idx</th>\n",
       "      <th>writer_idx</th>\n",
       "    </tr>\n",
       "  </thead>\n",
       "  <tbody>\n",
       "    <tr>\n",
       "      <th>0</th>\n",
       "      <td>0</td>\n",
       "      <td>0</td>\n",
       "      <td>0</td>\n",
       "      <td>0</td>\n",
       "      <td>0</td>\n",
       "      <td>0</td>\n",
       "      <td>0</td>\n",
       "    </tr>\n",
       "    <tr>\n",
       "      <th>1</th>\n",
       "      <td>0</td>\n",
       "      <td>0</td>\n",
       "      <td>0</td>\n",
       "      <td>0</td>\n",
       "      <td>0</td>\n",
       "      <td>0</td>\n",
       "      <td>1</td>\n",
       "    </tr>\n",
       "    <tr>\n",
       "      <th>2</th>\n",
       "      <td>0</td>\n",
       "      <td>0</td>\n",
       "      <td>0</td>\n",
       "      <td>0</td>\n",
       "      <td>0</td>\n",
       "      <td>0</td>\n",
       "      <td>2</td>\n",
       "    </tr>\n",
       "    <tr>\n",
       "      <th>3</th>\n",
       "      <td>0</td>\n",
       "      <td>0</td>\n",
       "      <td>0</td>\n",
       "      <td>0</td>\n",
       "      <td>0</td>\n",
       "      <td>0</td>\n",
       "      <td>3</td>\n",
       "    </tr>\n",
       "    <tr>\n",
       "      <th>4</th>\n",
       "      <td>0</td>\n",
       "      <td>0</td>\n",
       "      <td>0</td>\n",
       "      <td>0</td>\n",
       "      <td>0</td>\n",
       "      <td>1</td>\n",
       "      <td>0</td>\n",
       "    </tr>\n",
       "  </tbody>\n",
       "</table>\n",
       "</div>"
      ],
      "text/plain": [
       "   user_idx  item_idx  time_idx  year_idx  director_idx  genre_idx  writer_idx\n",
       "0         0         0         0         0             0          0           0\n",
       "1         0         0         0         0             0          0           1\n",
       "2         0         0         0         0             0          0           2\n",
       "3         0         0         0         0             0          0           3\n",
       "4         0         0         0         0             0          1           0"
      ]
     },
     "execution_count": 8,
     "metadata": {},
     "output_type": "execute_result"
    }
   ],
   "source": [
    "merge_idx_df.head() # global time -> local time"
   ]
  },
  {
   "cell_type": "code",
   "execution_count": 19,
   "metadata": {},
   "outputs": [
    {
     "data": {
      "text/plain": [
       "[31360, 6807, 5074973, 94, 1341, 18, 2990]"
      ]
     },
     "execution_count": 19,
     "metadata": {},
     "output_type": "execute_result"
    }
   ],
   "source": [
    "merge_idx_df.nunique().tolist() # n_users, n_items, n_time, n_year, n_director, n_genre, n_writer"
   ]
  },
  {
   "cell_type": "code",
   "execution_count": 41,
   "metadata": {},
   "outputs": [],
   "source": [
    "import torch\n",
    "import torch.nn as nn\n",
    "from torch.utils.data import Dataset, DataLoader\n",
    "from sklearn.model_selection import train_test_split"
   ]
  },
  {
   "cell_type": "code",
   "execution_count": null,
   "metadata": {},
   "outputs": [],
   "source": [
    "class FMDataset(Dataset):\n",
    "    def __init__(self, data) : \n",
    "        self.data = data\n",
    "        self.target = data['item_idx'] # item_idx\n",
    "        self.input_data = data[[col for col in data.columns if col not in self.target.name]] # merge_idx_df\n",
    "    \n",
    "    \n",
    "    def __getitem__(self, index) : \n",
    "        return self.input_data[index], self.target[index]\n",
    "        \n",
    "    def __len__(self, target) : \n",
    "        return len(self.target)\n",
    "    \n",
    "    def negative_sampling(self) :\n",
    "        self.data.groupby(['user_idx'])"
   ]
  },
  {
   "cell_type": "code",
   "execution_count": 57,
   "metadata": {},
   "outputs": [],
   "source": [
    "# with open('/opt/ml/bk/data/neg_sample.pkl', 'wb') as f:\n",
    "#     pickle.dump(neg_samples, f)"
   ]
  },
  {
   "cell_type": "code",
   "execution_count": 3,
   "metadata": {},
   "outputs": [],
   "source": [
    "with open('/opt/ml/bk/data/neg_sample.pkl', 'rb') as f:\n",
    "    neg_samples = pickle.load(f)"
   ]
  },
  {
   "cell_type": "code",
   "execution_count": 4,
   "metadata": {},
   "outputs": [],
   "source": [
    "neg_samples = np.array(neg_samples)"
   ]
  },
  {
   "cell_type": "code",
   "execution_count": 5,
   "metadata": {},
   "outputs": [
    {
     "data": {
      "text/plain": [
       "(5154471, 2)"
      ]
     },
     "execution_count": 5,
     "metadata": {},
     "output_type": "execute_result"
    }
   ],
   "source": [
    "neg_samples.shape"
   ]
  },
  {
   "cell_type": "code",
   "execution_count": 6,
   "metadata": {},
   "outputs": [
    {
     "data": {
      "text/plain": [
       "(5154471, 3)"
      ]
     },
     "execution_count": 6,
     "metadata": {},
     "output_type": "execute_result"
    }
   ],
   "source": [
    "df.shape"
   ]
  },
  {
   "cell_type": "code",
   "execution_count": 7,
   "metadata": {},
   "outputs": [],
   "source": [
    "neg_users = neg_samples[:,0]\n",
    "neg_items = neg_samples[:,1]"
   ]
  },
  {
   "cell_type": "code",
   "execution_count": 8,
   "metadata": {},
   "outputs": [],
   "source": [
    "neg_df = pd.DataFrame({'user':neg_users, 'item':neg_items, 'interaction':0})"
   ]
  },
  {
   "cell_type": "code",
   "execution_count": 9,
   "metadata": {},
   "outputs": [
    {
     "data": {
      "text/html": [
       "<div>\n",
       "<style scoped>\n",
       "    .dataframe tbody tr th:only-of-type {\n",
       "        vertical-align: middle;\n",
       "    }\n",
       "\n",
       "    .dataframe tbody tr th {\n",
       "        vertical-align: top;\n",
       "    }\n",
       "\n",
       "    .dataframe thead th {\n",
       "        text-align: right;\n",
       "    }\n",
       "</style>\n",
       "<table border=\"1\" class=\"dataframe\">\n",
       "  <thead>\n",
       "    <tr style=\"text-align: right;\">\n",
       "      <th></th>\n",
       "      <th>user</th>\n",
       "      <th>item</th>\n",
       "      <th>interaction</th>\n",
       "    </tr>\n",
       "  </thead>\n",
       "  <tbody>\n",
       "    <tr>\n",
       "      <th>0</th>\n",
       "      <td>11</td>\n",
       "      <td>60708</td>\n",
       "      <td>0</td>\n",
       "    </tr>\n",
       "    <tr>\n",
       "      <th>1</th>\n",
       "      <td>11</td>\n",
       "      <td>97674</td>\n",
       "      <td>0</td>\n",
       "    </tr>\n",
       "    <tr>\n",
       "      <th>2</th>\n",
       "      <td>11</td>\n",
       "      <td>76937</td>\n",
       "      <td>0</td>\n",
       "    </tr>\n",
       "    <tr>\n",
       "      <th>3</th>\n",
       "      <td>11</td>\n",
       "      <td>73183</td>\n",
       "      <td>0</td>\n",
       "    </tr>\n",
       "    <tr>\n",
       "      <th>4</th>\n",
       "      <td>11</td>\n",
       "      <td>30188</td>\n",
       "      <td>0</td>\n",
       "    </tr>\n",
       "    <tr>\n",
       "      <th>...</th>\n",
       "      <td>...</td>\n",
       "      <td>...</td>\n",
       "      <td>...</td>\n",
       "    </tr>\n",
       "    <tr>\n",
       "      <th>5154466</th>\n",
       "      <td>138493</td>\n",
       "      <td>10513</td>\n",
       "      <td>0</td>\n",
       "    </tr>\n",
       "    <tr>\n",
       "      <th>5154467</th>\n",
       "      <td>138493</td>\n",
       "      <td>116461</td>\n",
       "      <td>0</td>\n",
       "    </tr>\n",
       "    <tr>\n",
       "      <th>5154468</th>\n",
       "      <td>138493</td>\n",
       "      <td>13495</td>\n",
       "      <td>0</td>\n",
       "    </tr>\n",
       "    <tr>\n",
       "      <th>5154469</th>\n",
       "      <td>138493</td>\n",
       "      <td>32708</td>\n",
       "      <td>0</td>\n",
       "    </tr>\n",
       "    <tr>\n",
       "      <th>5154470</th>\n",
       "      <td>138493</td>\n",
       "      <td>52557</td>\n",
       "      <td>0</td>\n",
       "    </tr>\n",
       "  </tbody>\n",
       "</table>\n",
       "<p>5154471 rows × 3 columns</p>\n",
       "</div>"
      ],
      "text/plain": [
       "           user    item  interaction\n",
       "0            11   60708            0\n",
       "1            11   97674            0\n",
       "2            11   76937            0\n",
       "3            11   73183            0\n",
       "4            11   30188            0\n",
       "...         ...     ...          ...\n",
       "5154466  138493   10513            0\n",
       "5154467  138493  116461            0\n",
       "5154468  138493   13495            0\n",
       "5154469  138493   32708            0\n",
       "5154470  138493   52557            0\n",
       "\n",
       "[5154471 rows x 3 columns]"
      ]
     },
     "execution_count": 9,
     "metadata": {},
     "output_type": "execute_result"
    }
   ],
   "source": [
    "neg_df"
   ]
  },
  {
   "cell_type": "code",
   "execution_count": 10,
   "metadata": {},
   "outputs": [],
   "source": [
    "df_copy = df.copy()"
   ]
  },
  {
   "cell_type": "code",
   "execution_count": 11,
   "metadata": {},
   "outputs": [],
   "source": [
    "df_copy['interaction'] = 1"
   ]
  },
  {
   "cell_type": "code",
   "execution_count": 12,
   "metadata": {},
   "outputs": [],
   "source": [
    "neg_n_pos = pd.concat([df_copy, neg_df], axis = 0)"
   ]
  },
  {
   "cell_type": "code",
   "execution_count": 13,
   "metadata": {},
   "outputs": [
    {
     "data": {
      "text/html": [
       "<div>\n",
       "<style scoped>\n",
       "    .dataframe tbody tr th:only-of-type {\n",
       "        vertical-align: middle;\n",
       "    }\n",
       "\n",
       "    .dataframe tbody tr th {\n",
       "        vertical-align: top;\n",
       "    }\n",
       "\n",
       "    .dataframe thead th {\n",
       "        text-align: right;\n",
       "    }\n",
       "</style>\n",
       "<table border=\"1\" class=\"dataframe\">\n",
       "  <thead>\n",
       "    <tr style=\"text-align: right;\">\n",
       "      <th></th>\n",
       "      <th>item</th>\n",
       "      <th>user</th>\n",
       "    </tr>\n",
       "  </thead>\n",
       "  <tbody>\n",
       "    <tr>\n",
       "      <th>0</th>\n",
       "      <td>60708</td>\n",
       "      <td>11</td>\n",
       "    </tr>\n",
       "    <tr>\n",
       "      <th>1</th>\n",
       "      <td>97674</td>\n",
       "      <td>11</td>\n",
       "    </tr>\n",
       "    <tr>\n",
       "      <th>2</th>\n",
       "      <td>76937</td>\n",
       "      <td>11</td>\n",
       "    </tr>\n",
       "    <tr>\n",
       "      <th>3</th>\n",
       "      <td>73183</td>\n",
       "      <td>11</td>\n",
       "    </tr>\n",
       "    <tr>\n",
       "      <th>4</th>\n",
       "      <td>30188</td>\n",
       "      <td>11</td>\n",
       "    </tr>\n",
       "    <tr>\n",
       "      <th>...</th>\n",
       "      <td>...</td>\n",
       "      <td>...</td>\n",
       "    </tr>\n",
       "    <tr>\n",
       "      <th>5154466</th>\n",
       "      <td>10513</td>\n",
       "      <td>138493</td>\n",
       "    </tr>\n",
       "    <tr>\n",
       "      <th>5154467</th>\n",
       "      <td>116461</td>\n",
       "      <td>138493</td>\n",
       "    </tr>\n",
       "    <tr>\n",
       "      <th>5154468</th>\n",
       "      <td>13495</td>\n",
       "      <td>138493</td>\n",
       "    </tr>\n",
       "    <tr>\n",
       "      <th>5154469</th>\n",
       "      <td>32708</td>\n",
       "      <td>138493</td>\n",
       "    </tr>\n",
       "    <tr>\n",
       "      <th>5154470</th>\n",
       "      <td>52557</td>\n",
       "      <td>138493</td>\n",
       "    </tr>\n",
       "  </tbody>\n",
       "</table>\n",
       "<p>5154471 rows × 2 columns</p>\n",
       "</div>"
      ],
      "text/plain": [
       "           item    user\n",
       "0         60708      11\n",
       "1         97674      11\n",
       "2         76937      11\n",
       "3         73183      11\n",
       "4         30188      11\n",
       "...         ...     ...\n",
       "5154466   10513  138493\n",
       "5154467  116461  138493\n",
       "5154468   13495  138493\n",
       "5154469   32708  138493\n",
       "5154470   52557  138493\n",
       "\n",
       "[5154471 rows x 2 columns]"
      ]
     },
     "execution_count": 13,
     "metadata": {},
     "output_type": "execute_result"
    }
   ],
   "source": [
    "neg_df[neg_df.columns.difference(['interaction'])]"
   ]
  },
  {
   "cell_type": "code",
   "execution_count": 14,
   "metadata": {},
   "outputs": [],
   "source": [
    "dfs[0] =  neg_n_pos"
   ]
  },
  {
   "cell_type": "code",
   "execution_count": 4,
   "metadata": {},
   "outputs": [],
   "source": [
    "item_df = reduce(lambda left, right:pd.merge(left, right, on = 'item', how = 'left'), dfs[1:])"
   ]
  },
  {
   "cell_type": "code",
   "execution_count": 24,
   "metadata": {},
   "outputs": [
    {
     "data": {
      "text/html": [
       "<div>\n",
       "<style scoped>\n",
       "    .dataframe tbody tr th:only-of-type {\n",
       "        vertical-align: middle;\n",
       "    }\n",
       "\n",
       "    .dataframe tbody tr th {\n",
       "        vertical-align: top;\n",
       "    }\n",
       "\n",
       "    .dataframe thead th {\n",
       "        text-align: right;\n",
       "    }\n",
       "</style>\n",
       "<table border=\"1\" class=\"dataframe\">\n",
       "  <thead>\n",
       "    <tr style=\"text-align: right;\">\n",
       "      <th></th>\n",
       "      <th>item</th>\n",
       "      <th>year</th>\n",
       "      <th>director</th>\n",
       "      <th>genre</th>\n",
       "      <th>writer</th>\n",
       "    </tr>\n",
       "  </thead>\n",
       "  <tbody>\n",
       "    <tr>\n",
       "      <th>0</th>\n",
       "      <td>1348</td>\n",
       "      <td>1922</td>\n",
       "      <td>nm0003638</td>\n",
       "      <td>Horror</td>\n",
       "      <td>nm0831290</td>\n",
       "    </tr>\n",
       "    <tr>\n",
       "      <th>1</th>\n",
       "      <td>44587</td>\n",
       "      <td>1922</td>\n",
       "      <td>NaN</td>\n",
       "      <td>Documentary</td>\n",
       "      <td>NaN</td>\n",
       "    </tr>\n",
       "    <tr>\n",
       "      <th>2</th>\n",
       "      <td>44587</td>\n",
       "      <td>1922</td>\n",
       "      <td>NaN</td>\n",
       "      <td>Drama</td>\n",
       "      <td>NaN</td>\n",
       "    </tr>\n",
       "    <tr>\n",
       "      <th>3</th>\n",
       "      <td>4768</td>\n",
       "      <td>1922</td>\n",
       "      <td>nm0000485</td>\n",
       "      <td>Crime</td>\n",
       "      <td>nm0000485</td>\n",
       "    </tr>\n",
       "    <tr>\n",
       "      <th>4</th>\n",
       "      <td>4768</td>\n",
       "      <td>1922</td>\n",
       "      <td>nm0000485</td>\n",
       "      <td>Crime</td>\n",
       "      <td>nm0415167</td>\n",
       "    </tr>\n",
       "  </tbody>\n",
       "</table>\n",
       "</div>"
      ],
      "text/plain": [
       "    item  year   director        genre     writer\n",
       "0   1348  1922  nm0003638       Horror  nm0831290\n",
       "1  44587  1922        NaN  Documentary        NaN\n",
       "2  44587  1922        NaN        Drama        NaN\n",
       "3   4768  1922  nm0000485        Crime  nm0000485\n",
       "4   4768  1922  nm0000485        Crime  nm0415167"
      ]
     },
     "execution_count": 24,
     "metadata": {},
     "output_type": "execute_result"
    }
   ],
   "source": [
    "item_df.head()"
   ]
  },
  {
   "cell_type": "code",
   "execution_count": 27,
   "metadata": {},
   "outputs": [
    {
     "data": {
      "text/html": [
       "<div>\n",
       "<style scoped>\n",
       "    .dataframe tbody tr th:only-of-type {\n",
       "        vertical-align: middle;\n",
       "    }\n",
       "\n",
       "    .dataframe tbody tr th {\n",
       "        vertical-align: top;\n",
       "    }\n",
       "\n",
       "    .dataframe thead th {\n",
       "        text-align: right;\n",
       "    }\n",
       "</style>\n",
       "<table border=\"1\" class=\"dataframe\">\n",
       "  <thead>\n",
       "    <tr style=\"text-align: right;\">\n",
       "      <th></th>\n",
       "      <th>year</th>\n",
       "      <th>director</th>\n",
       "      <th>genre</th>\n",
       "      <th>writer</th>\n",
       "    </tr>\n",
       "    <tr>\n",
       "      <th>item</th>\n",
       "      <th></th>\n",
       "      <th></th>\n",
       "      <th></th>\n",
       "      <th></th>\n",
       "    </tr>\n",
       "  </thead>\n",
       "  <tbody>\n",
       "    <tr>\n",
       "      <th>1</th>\n",
       "      <td>1995</td>\n",
       "      <td>nm0005124</td>\n",
       "      <td>Comedy</td>\n",
       "      <td>nm0923736</td>\n",
       "    </tr>\n",
       "    <tr>\n",
       "      <th>1</th>\n",
       "      <td>1995</td>\n",
       "      <td>nm0005124</td>\n",
       "      <td>Animation</td>\n",
       "      <td>nm0923736</td>\n",
       "    </tr>\n",
       "    <tr>\n",
       "      <th>1</th>\n",
       "      <td>1995</td>\n",
       "      <td>nm0005124</td>\n",
       "      <td>Animation</td>\n",
       "      <td>nm0812513</td>\n",
       "    </tr>\n",
       "    <tr>\n",
       "      <th>1</th>\n",
       "      <td>1995</td>\n",
       "      <td>nm0005124</td>\n",
       "      <td>Animation</td>\n",
       "      <td>nm0710020</td>\n",
       "    </tr>\n",
       "    <tr>\n",
       "      <th>1</th>\n",
       "      <td>1995</td>\n",
       "      <td>nm0005124</td>\n",
       "      <td>Animation</td>\n",
       "      <td>nm0230032</td>\n",
       "    </tr>\n",
       "    <tr>\n",
       "      <th>1</th>\n",
       "      <td>1995</td>\n",
       "      <td>nm0005124</td>\n",
       "      <td>Animation</td>\n",
       "      <td>nm0169505</td>\n",
       "    </tr>\n",
       "    <tr>\n",
       "      <th>1</th>\n",
       "      <td>1995</td>\n",
       "      <td>nm0005124</td>\n",
       "      <td>Animation</td>\n",
       "      <td>nm0005124</td>\n",
       "    </tr>\n",
       "    <tr>\n",
       "      <th>1</th>\n",
       "      <td>1995</td>\n",
       "      <td>nm0005124</td>\n",
       "      <td>Animation</td>\n",
       "      <td>nm0004056</td>\n",
       "    </tr>\n",
       "    <tr>\n",
       "      <th>1</th>\n",
       "      <td>1995</td>\n",
       "      <td>nm0005124</td>\n",
       "      <td>Adventure</td>\n",
       "      <td>nm0923736</td>\n",
       "    </tr>\n",
       "    <tr>\n",
       "      <th>1</th>\n",
       "      <td>1995</td>\n",
       "      <td>nm0005124</td>\n",
       "      <td>Adventure</td>\n",
       "      <td>nm0812513</td>\n",
       "    </tr>\n",
       "    <tr>\n",
       "      <th>1</th>\n",
       "      <td>1995</td>\n",
       "      <td>nm0005124</td>\n",
       "      <td>Adventure</td>\n",
       "      <td>nm0710020</td>\n",
       "    </tr>\n",
       "    <tr>\n",
       "      <th>1</th>\n",
       "      <td>1995</td>\n",
       "      <td>nm0005124</td>\n",
       "      <td>Adventure</td>\n",
       "      <td>nm0230032</td>\n",
       "    </tr>\n",
       "    <tr>\n",
       "      <th>1</th>\n",
       "      <td>1995</td>\n",
       "      <td>nm0005124</td>\n",
       "      <td>Adventure</td>\n",
       "      <td>nm0169505</td>\n",
       "    </tr>\n",
       "    <tr>\n",
       "      <th>1</th>\n",
       "      <td>1995</td>\n",
       "      <td>nm0005124</td>\n",
       "      <td>Adventure</td>\n",
       "      <td>nm0005124</td>\n",
       "    </tr>\n",
       "    <tr>\n",
       "      <th>1</th>\n",
       "      <td>1995</td>\n",
       "      <td>nm0005124</td>\n",
       "      <td>Fantasy</td>\n",
       "      <td>nm0004056</td>\n",
       "    </tr>\n",
       "    <tr>\n",
       "      <th>1</th>\n",
       "      <td>1995</td>\n",
       "      <td>nm0005124</td>\n",
       "      <td>Fantasy</td>\n",
       "      <td>nm0005124</td>\n",
       "    </tr>\n",
       "    <tr>\n",
       "      <th>1</th>\n",
       "      <td>1995</td>\n",
       "      <td>nm0005124</td>\n",
       "      <td>Fantasy</td>\n",
       "      <td>nm0169505</td>\n",
       "    </tr>\n",
       "    <tr>\n",
       "      <th>1</th>\n",
       "      <td>1995</td>\n",
       "      <td>nm0005124</td>\n",
       "      <td>Fantasy</td>\n",
       "      <td>nm0230032</td>\n",
       "    </tr>\n",
       "    <tr>\n",
       "      <th>1</th>\n",
       "      <td>1995</td>\n",
       "      <td>nm0005124</td>\n",
       "      <td>Adventure</td>\n",
       "      <td>nm0004056</td>\n",
       "    </tr>\n",
       "    <tr>\n",
       "      <th>1</th>\n",
       "      <td>1995</td>\n",
       "      <td>nm0005124</td>\n",
       "      <td>Fantasy</td>\n",
       "      <td>nm0710020</td>\n",
       "    </tr>\n",
       "    <tr>\n",
       "      <th>1</th>\n",
       "      <td>1995</td>\n",
       "      <td>nm0005124</td>\n",
       "      <td>Children</td>\n",
       "      <td>nm0004056</td>\n",
       "    </tr>\n",
       "    <tr>\n",
       "      <th>1</th>\n",
       "      <td>1995</td>\n",
       "      <td>nm0005124</td>\n",
       "      <td>Fantasy</td>\n",
       "      <td>nm0812513</td>\n",
       "    </tr>\n",
       "    <tr>\n",
       "      <th>1</th>\n",
       "      <td>1995</td>\n",
       "      <td>nm0005124</td>\n",
       "      <td>Children</td>\n",
       "      <td>nm0005124</td>\n",
       "    </tr>\n",
       "    <tr>\n",
       "      <th>1</th>\n",
       "      <td>1995</td>\n",
       "      <td>nm0005124</td>\n",
       "      <td>Children</td>\n",
       "      <td>nm0812513</td>\n",
       "    </tr>\n",
       "    <tr>\n",
       "      <th>1</th>\n",
       "      <td>1995</td>\n",
       "      <td>nm0005124</td>\n",
       "      <td>Comedy</td>\n",
       "      <td>nm0230032</td>\n",
       "    </tr>\n",
       "    <tr>\n",
       "      <th>1</th>\n",
       "      <td>1995</td>\n",
       "      <td>nm0005124</td>\n",
       "      <td>Comedy</td>\n",
       "      <td>nm0710020</td>\n",
       "    </tr>\n",
       "    <tr>\n",
       "      <th>1</th>\n",
       "      <td>1995</td>\n",
       "      <td>nm0005124</td>\n",
       "      <td>Comedy</td>\n",
       "      <td>nm0812513</td>\n",
       "    </tr>\n",
       "    <tr>\n",
       "      <th>1</th>\n",
       "      <td>1995</td>\n",
       "      <td>nm0005124</td>\n",
       "      <td>Comedy</td>\n",
       "      <td>nm0169505</td>\n",
       "    </tr>\n",
       "    <tr>\n",
       "      <th>1</th>\n",
       "      <td>1995</td>\n",
       "      <td>nm0005124</td>\n",
       "      <td>Comedy</td>\n",
       "      <td>nm0005124</td>\n",
       "    </tr>\n",
       "    <tr>\n",
       "      <th>1</th>\n",
       "      <td>1995</td>\n",
       "      <td>nm0005124</td>\n",
       "      <td>Comedy</td>\n",
       "      <td>nm0004056</td>\n",
       "    </tr>\n",
       "    <tr>\n",
       "      <th>1</th>\n",
       "      <td>1995</td>\n",
       "      <td>nm0005124</td>\n",
       "      <td>Children</td>\n",
       "      <td>nm0923736</td>\n",
       "    </tr>\n",
       "    <tr>\n",
       "      <th>1</th>\n",
       "      <td>1995</td>\n",
       "      <td>nm0005124</td>\n",
       "      <td>Fantasy</td>\n",
       "      <td>nm0923736</td>\n",
       "    </tr>\n",
       "    <tr>\n",
       "      <th>1</th>\n",
       "      <td>1995</td>\n",
       "      <td>nm0005124</td>\n",
       "      <td>Children</td>\n",
       "      <td>nm0710020</td>\n",
       "    </tr>\n",
       "    <tr>\n",
       "      <th>1</th>\n",
       "      <td>1995</td>\n",
       "      <td>nm0005124</td>\n",
       "      <td>Children</td>\n",
       "      <td>nm0230032</td>\n",
       "    </tr>\n",
       "    <tr>\n",
       "      <th>1</th>\n",
       "      <td>1995</td>\n",
       "      <td>nm0005124</td>\n",
       "      <td>Children</td>\n",
       "      <td>nm0169505</td>\n",
       "    </tr>\n",
       "  </tbody>\n",
       "</table>\n",
       "</div>"
      ],
      "text/plain": [
       "      year   director      genre     writer\n",
       "item                                       \n",
       "1     1995  nm0005124     Comedy  nm0923736\n",
       "1     1995  nm0005124  Animation  nm0923736\n",
       "1     1995  nm0005124  Animation  nm0812513\n",
       "1     1995  nm0005124  Animation  nm0710020\n",
       "1     1995  nm0005124  Animation  nm0230032\n",
       "1     1995  nm0005124  Animation  nm0169505\n",
       "1     1995  nm0005124  Animation  nm0005124\n",
       "1     1995  nm0005124  Animation  nm0004056\n",
       "1     1995  nm0005124  Adventure  nm0923736\n",
       "1     1995  nm0005124  Adventure  nm0812513\n",
       "1     1995  nm0005124  Adventure  nm0710020\n",
       "1     1995  nm0005124  Adventure  nm0230032\n",
       "1     1995  nm0005124  Adventure  nm0169505\n",
       "1     1995  nm0005124  Adventure  nm0005124\n",
       "1     1995  nm0005124    Fantasy  nm0004056\n",
       "1     1995  nm0005124    Fantasy  nm0005124\n",
       "1     1995  nm0005124    Fantasy  nm0169505\n",
       "1     1995  nm0005124    Fantasy  nm0230032\n",
       "1     1995  nm0005124  Adventure  nm0004056\n",
       "1     1995  nm0005124    Fantasy  nm0710020\n",
       "1     1995  nm0005124   Children  nm0004056\n",
       "1     1995  nm0005124    Fantasy  nm0812513\n",
       "1     1995  nm0005124   Children  nm0005124\n",
       "1     1995  nm0005124   Children  nm0812513\n",
       "1     1995  nm0005124     Comedy  nm0230032\n",
       "1     1995  nm0005124     Comedy  nm0710020\n",
       "1     1995  nm0005124     Comedy  nm0812513\n",
       "1     1995  nm0005124     Comedy  nm0169505\n",
       "1     1995  nm0005124     Comedy  nm0005124\n",
       "1     1995  nm0005124     Comedy  nm0004056\n",
       "1     1995  nm0005124   Children  nm0923736\n",
       "1     1995  nm0005124    Fantasy  nm0923736\n",
       "1     1995  nm0005124   Children  nm0710020\n",
       "1     1995  nm0005124   Children  nm0230032\n",
       "1     1995  nm0005124   Children  nm0169505"
      ]
     },
     "execution_count": 27,
     "metadata": {},
     "output_type": "execute_result"
    }
   ],
   "source": [
    "item_df.set_index('item').sort_index().loc[1]"
   ]
  },
  {
   "cell_type": "code",
   "execution_count": 3,
   "metadata": {},
   "outputs": [],
   "source": [
    "merge_df = reduce(lambda left, right:pd.merge(left, right, on='item', how='left'), dfs)"
   ]
  },
  {
   "cell_type": "code",
   "execution_count": 4,
   "metadata": {},
   "outputs": [
    {
     "data": {
      "text/plain": [
       "Index(['user', 'item', 'time', 'year', 'director', 'genre', 'writer'], dtype='object')"
      ]
     },
     "execution_count": 4,
     "metadata": {},
     "output_type": "execute_result"
    }
   ],
   "source": [
    "merge_df.columns"
   ]
  },
  {
   "cell_type": "code",
   "execution_count": 41,
   "metadata": {},
   "outputs": [],
   "source": [
    "item_list = df['item'].unique().tolist()\n",
    "user_list = df['user'].unique().tolist()\n",
    "interaction_dict = dict(df.groupby('user')['item'].apply(list))"
   ]
  },
  {
   "cell_type": "code",
   "execution_count": 5,
   "metadata": {},
   "outputs": [],
   "source": [
    "#\n",
    "with open('/opt/ml/bk/data/no_inter_items.pkl', 'rb') as f:\n",
    "    no_inter_dict = pickle.load(f)\n",
    "    \n",
    "no_inter_df = pd.DataFrame({'user':no_inter_dict.keys(), 'item':no_inter_dict.values()}).explode('item').reset_index(drop = True)"
   ]
  },
  {
   "cell_type": "code",
   "execution_count": 42,
   "metadata": {},
   "outputs": [],
   "source": [
    "no_inter_dict = {}\n",
    "for user in user_list :\n",
    "    no_inter = list(set(item_list) - set(interaction_dict[user]))\n",
    "    no_inter_dict[user] = no_inter"
   ]
  },
  {
   "cell_type": "code",
   "execution_count": 44,
   "metadata": {},
   "outputs": [
    {
     "data": {
      "text/plain": [
       "31360"
      ]
     },
     "execution_count": 44,
     "metadata": {},
     "output_type": "execute_result"
    }
   ],
   "source": [
    "len(no_inter_dict)"
   ]
  },
  {
   "cell_type": "code",
   "execution_count": 53,
   "metadata": {},
   "outputs": [],
   "source": [
    "no_inter_df = pd.DataFrame({'user':no_inter_dict.keys(), 'item':no_inter_dict.values()}).explode('item')"
   ]
  },
  {
   "cell_type": "code",
   "execution_count": 57,
   "metadata": {},
   "outputs": [],
   "source": [
    "no_inter_df = no_inter_df.reset_index(drop = True)"
   ]
  },
  {
   "cell_type": "code",
   "execution_count": 61,
   "metadata": {},
   "outputs": [],
   "source": [
    "no_inter_df=no_inter_df.iloc[:,1:]"
   ]
  },
  {
   "cell_type": "code",
   "execution_count": 6,
   "metadata": {},
   "outputs": [],
   "source": [
    "no_inter_df = no_inter_df.astype('int32')"
   ]
  },
  {
   "cell_type": "code",
   "execution_count": 10,
   "metadata": {},
   "outputs": [
    {
     "data": {
      "text/plain": [
       "208313049"
      ]
     },
     "execution_count": 10,
     "metadata": {},
     "output_type": "execute_result"
    }
   ],
   "source": [
    "len(no_inter_df)"
   ]
  },
  {
   "cell_type": "code",
   "execution_count": 7,
   "metadata": {},
   "outputs": [
    {
     "data": {
      "text/plain": [
       "Index          128\n",
       "user     833252196\n",
       "item     833252196\n",
       "dtype: int64"
      ]
     },
     "execution_count": 7,
     "metadata": {},
     "output_type": "execute_result"
    }
   ],
   "source": [
    "no_inter_df.memory_usage()"
   ]
  },
  {
   "cell_type": "code",
   "execution_count": 66,
   "metadata": {},
   "outputs": [
    {
     "data": {
      "text/plain": [
       "Index           128\n",
       "user     1666504392\n",
       "item     1666504392\n",
       "dtype: int64"
      ]
     },
     "execution_count": 66,
     "metadata": {},
     "output_type": "execute_result"
    }
   ],
   "source": [
    "no_inter_df.memory_usage()"
   ]
  },
  {
   "cell_type": "code",
   "execution_count": 8,
   "metadata": {},
   "outputs": [
    {
     "ename": "MemoryError",
     "evalue": "Unable to allocate 25.3 GiB for an array with shape (3, 1132193877) and data type object",
     "output_type": "error",
     "traceback": [
      "\u001b[0;31m---------------------------------------------------------------------------\u001b[0m",
      "\u001b[0;31mMemoryError\u001b[0m                               Traceback (most recent call last)",
      "\u001b[1;32m/opt/ml/bk/fm_datset.ipynb Cell 48\u001b[0m in \u001b[0;36m<cell line: 1>\u001b[0;34m()\u001b[0m\n\u001b[0;32m----> <a href='vscode-notebook-cell://ssh-remote%2Baistage3/opt/ml/bk/fm_datset.ipynb#Y110sdnNjb2RlLXJlbW90ZQ%3D%3D?line=0'>1</a>\u001b[0m pd\u001b[39m.\u001b[39;49mmerge(no_inter_df, item_df, on\u001b[39m=\u001b[39;49m\u001b[39m'\u001b[39;49m\u001b[39mitem\u001b[39;49m\u001b[39m'\u001b[39;49m, how \u001b[39m=\u001b[39;49m \u001b[39m'\u001b[39;49m\u001b[39mleft\u001b[39;49m\u001b[39m'\u001b[39;49m)\n",
      "File \u001b[0;32m/opt/conda/lib/python3.8/site-packages/pandas/core/reshape/merge.py:122\u001b[0m, in \u001b[0;36mmerge\u001b[0;34m(left, right, how, on, left_on, right_on, left_index, right_index, sort, suffixes, copy, indicator, validate)\u001b[0m\n\u001b[1;32m     90\u001b[0m \u001b[39m@Substitution\u001b[39m(\u001b[39m\"\u001b[39m\u001b[39m\\n\u001b[39;00m\u001b[39mleft : DataFrame or named Series\u001b[39m\u001b[39m\"\u001b[39m)\n\u001b[1;32m     91\u001b[0m \u001b[39m@Appender\u001b[39m(_merge_doc, indents\u001b[39m=\u001b[39m\u001b[39m0\u001b[39m)\n\u001b[1;32m     92\u001b[0m \u001b[39mdef\u001b[39;00m \u001b[39mmerge\u001b[39m(\n\u001b[0;32m   (...)\u001b[0m\n\u001b[1;32m    105\u001b[0m     validate: \u001b[39mstr\u001b[39m \u001b[39m|\u001b[39m \u001b[39mNone\u001b[39;00m \u001b[39m=\u001b[39m \u001b[39mNone\u001b[39;00m,\n\u001b[1;32m    106\u001b[0m ) \u001b[39m-\u001b[39m\u001b[39m>\u001b[39m DataFrame:\n\u001b[1;32m    107\u001b[0m     op \u001b[39m=\u001b[39m _MergeOperation(\n\u001b[1;32m    108\u001b[0m         left,\n\u001b[1;32m    109\u001b[0m         right,\n\u001b[0;32m   (...)\u001b[0m\n\u001b[1;32m    120\u001b[0m         validate\u001b[39m=\u001b[39mvalidate,\n\u001b[1;32m    121\u001b[0m     )\n\u001b[0;32m--> 122\u001b[0m     \u001b[39mreturn\u001b[39;00m op\u001b[39m.\u001b[39;49mget_result()\n",
      "File \u001b[0;32m/opt/conda/lib/python3.8/site-packages/pandas/core/reshape/merge.py:725\u001b[0m, in \u001b[0;36m_MergeOperation.get_result\u001b[0;34m(self)\u001b[0m\n\u001b[1;32m    722\u001b[0m lindexers \u001b[39m=\u001b[39m {\u001b[39m1\u001b[39m: left_indexer} \u001b[39mif\u001b[39;00m left_indexer \u001b[39mis\u001b[39;00m \u001b[39mnot\u001b[39;00m \u001b[39mNone\u001b[39;00m \u001b[39melse\u001b[39;00m {}\n\u001b[1;32m    723\u001b[0m rindexers \u001b[39m=\u001b[39m {\u001b[39m1\u001b[39m: right_indexer} \u001b[39mif\u001b[39;00m right_indexer \u001b[39mis\u001b[39;00m \u001b[39mnot\u001b[39;00m \u001b[39mNone\u001b[39;00m \u001b[39melse\u001b[39;00m {}\n\u001b[0;32m--> 725\u001b[0m result_data \u001b[39m=\u001b[39m concatenate_managers(\n\u001b[1;32m    726\u001b[0m     [(\u001b[39mself\u001b[39;49m\u001b[39m.\u001b[39;49mleft\u001b[39m.\u001b[39;49m_mgr, lindexers), (\u001b[39mself\u001b[39;49m\u001b[39m.\u001b[39;49mright\u001b[39m.\u001b[39;49m_mgr, rindexers)],\n\u001b[1;32m    727\u001b[0m     axes\u001b[39m=\u001b[39;49m[llabels\u001b[39m.\u001b[39;49mappend(rlabels), join_index],\n\u001b[1;32m    728\u001b[0m     concat_axis\u001b[39m=\u001b[39;49m\u001b[39m0\u001b[39;49m,\n\u001b[1;32m    729\u001b[0m     copy\u001b[39m=\u001b[39;49m\u001b[39mself\u001b[39;49m\u001b[39m.\u001b[39;49mcopy,\n\u001b[1;32m    730\u001b[0m )\n\u001b[1;32m    732\u001b[0m typ \u001b[39m=\u001b[39m \u001b[39mself\u001b[39m\u001b[39m.\u001b[39mleft\u001b[39m.\u001b[39m_constructor\n\u001b[1;32m    733\u001b[0m result \u001b[39m=\u001b[39m typ(result_data)\u001b[39m.\u001b[39m__finalize__(\u001b[39mself\u001b[39m, method\u001b[39m=\u001b[39m\u001b[39mself\u001b[39m\u001b[39m.\u001b[39m_merge_type)\n",
      "File \u001b[0;32m/opt/conda/lib/python3.8/site-packages/pandas/core/internals/concat.py:202\u001b[0m, in \u001b[0;36mconcatenate_managers\u001b[0;34m(mgrs_indexers, axes, concat_axis, copy)\u001b[0m\n\u001b[1;32m    195\u001b[0m \u001b[39m# Assertions disabled for performance\u001b[39;00m\n\u001b[1;32m    196\u001b[0m \u001b[39m# for tup in mgrs_indexers:\u001b[39;00m\n\u001b[1;32m    197\u001b[0m \u001b[39m#    # caller is responsible for ensuring this\u001b[39;00m\n\u001b[1;32m    198\u001b[0m \u001b[39m#    indexers = tup[1]\u001b[39;00m\n\u001b[1;32m    199\u001b[0m \u001b[39m#    assert concat_axis not in indexers\u001b[39;00m\n\u001b[1;32m    201\u001b[0m \u001b[39mif\u001b[39;00m concat_axis \u001b[39m==\u001b[39m \u001b[39m0\u001b[39m:\n\u001b[0;32m--> 202\u001b[0m     \u001b[39mreturn\u001b[39;00m _concat_managers_axis0(mgrs_indexers, axes, copy)\n\u001b[1;32m    204\u001b[0m mgrs_indexers \u001b[39m=\u001b[39m _maybe_reindex_columns_na_proxy(axes, mgrs_indexers)\n\u001b[1;32m    206\u001b[0m \u001b[39m# Assertion disabled for performance\u001b[39;00m\n\u001b[1;32m    207\u001b[0m \u001b[39m# assert all(not x[1] for x in mgrs_indexers)\u001b[39;00m\n",
      "File \u001b[0;32m/opt/conda/lib/python3.8/site-packages/pandas/core/internals/concat.py:264\u001b[0m, in \u001b[0;36m_concat_managers_axis0\u001b[0;34m(mgrs_indexers, axes, copy)\u001b[0m\n\u001b[1;32m    257\u001b[0m \u001b[39m\"\"\"\u001b[39;00m\n\u001b[1;32m    258\u001b[0m \u001b[39mconcat_managers specialized to concat_axis=0, with reindexing already\u001b[39;00m\n\u001b[1;32m    259\u001b[0m \u001b[39mhaving been done in _maybe_reindex_columns_na_proxy.\u001b[39;00m\n\u001b[1;32m    260\u001b[0m \u001b[39m\"\"\"\u001b[39;00m\n\u001b[1;32m    261\u001b[0m had_reindexers \u001b[39m=\u001b[39m {\n\u001b[1;32m    262\u001b[0m     i: \u001b[39mlen\u001b[39m(mgrs_indexers[i][\u001b[39m1\u001b[39m]) \u001b[39m>\u001b[39m \u001b[39m0\u001b[39m \u001b[39mfor\u001b[39;00m i \u001b[39min\u001b[39;00m \u001b[39mrange\u001b[39m(\u001b[39mlen\u001b[39m(mgrs_indexers))\n\u001b[1;32m    263\u001b[0m }\n\u001b[0;32m--> 264\u001b[0m mgrs_indexers \u001b[39m=\u001b[39m _maybe_reindex_columns_na_proxy(axes, mgrs_indexers)\n\u001b[1;32m    266\u001b[0m mgrs \u001b[39m=\u001b[39m [x[\u001b[39m0\u001b[39m] \u001b[39mfor\u001b[39;00m x \u001b[39min\u001b[39;00m mgrs_indexers]\n\u001b[1;32m    268\u001b[0m offset \u001b[39m=\u001b[39m \u001b[39m0\u001b[39m\n",
      "File \u001b[0;32m/opt/conda/lib/python3.8/site-packages/pandas/core/internals/concat.py:306\u001b[0m, in \u001b[0;36m_maybe_reindex_columns_na_proxy\u001b[0;34m(axes, mgrs_indexers)\u001b[0m\n\u001b[1;32m    302\u001b[0m \u001b[39mfor\u001b[39;00m mgr, indexers \u001b[39min\u001b[39;00m mgrs_indexers:\n\u001b[1;32m    303\u001b[0m     \u001b[39m# For axis=0 (i.e. columns) we use_na_proxy and only_slice, so this\u001b[39;00m\n\u001b[1;32m    304\u001b[0m     \u001b[39m#  is a cheap reindexing.\u001b[39;00m\n\u001b[1;32m    305\u001b[0m     \u001b[39mfor\u001b[39;00m i, indexer \u001b[39min\u001b[39;00m indexers\u001b[39m.\u001b[39mitems():\n\u001b[0;32m--> 306\u001b[0m         mgr \u001b[39m=\u001b[39m mgr\u001b[39m.\u001b[39;49mreindex_indexer(\n\u001b[1;32m    307\u001b[0m             axes[i],\n\u001b[1;32m    308\u001b[0m             indexers[i],\n\u001b[1;32m    309\u001b[0m             axis\u001b[39m=\u001b[39;49mi,\n\u001b[1;32m    310\u001b[0m             copy\u001b[39m=\u001b[39;49m\u001b[39mFalse\u001b[39;49;00m,\n\u001b[1;32m    311\u001b[0m             only_slice\u001b[39m=\u001b[39;49m\u001b[39mTrue\u001b[39;49;00m,  \u001b[39m# only relevant for i==0\u001b[39;49;00m\n\u001b[1;32m    312\u001b[0m             allow_dups\u001b[39m=\u001b[39;49m\u001b[39mTrue\u001b[39;49;00m,\n\u001b[1;32m    313\u001b[0m             use_na_proxy\u001b[39m=\u001b[39;49m\u001b[39mTrue\u001b[39;49;00m,  \u001b[39m# only relevant for i==0\u001b[39;49;00m\n\u001b[1;32m    314\u001b[0m         )\n\u001b[1;32m    315\u001b[0m     new_mgrs_indexers\u001b[39m.\u001b[39mappend((mgr, {}))\n\u001b[1;32m    317\u001b[0m \u001b[39mreturn\u001b[39;00m new_mgrs_indexers\n",
      "File \u001b[0;32m/opt/conda/lib/python3.8/site-packages/pandas/core/internals/managers.py:692\u001b[0m, in \u001b[0;36mBaseBlockManager.reindex_indexer\u001b[0;34m(self, new_axis, indexer, axis, fill_value, allow_dups, copy, consolidate, only_slice, use_na_proxy)\u001b[0m\n\u001b[1;32m    685\u001b[0m     new_blocks \u001b[39m=\u001b[39m \u001b[39mself\u001b[39m\u001b[39m.\u001b[39m_slice_take_blocks_ax0(\n\u001b[1;32m    686\u001b[0m         indexer,\n\u001b[1;32m    687\u001b[0m         fill_value\u001b[39m=\u001b[39mfill_value,\n\u001b[1;32m    688\u001b[0m         only_slice\u001b[39m=\u001b[39monly_slice,\n\u001b[1;32m    689\u001b[0m         use_na_proxy\u001b[39m=\u001b[39muse_na_proxy,\n\u001b[1;32m    690\u001b[0m     )\n\u001b[1;32m    691\u001b[0m \u001b[39melse\u001b[39;00m:\n\u001b[0;32m--> 692\u001b[0m     new_blocks \u001b[39m=\u001b[39m [\n\u001b[1;32m    693\u001b[0m         blk\u001b[39m.\u001b[39mtake_nd(\n\u001b[1;32m    694\u001b[0m             indexer,\n\u001b[1;32m    695\u001b[0m             axis\u001b[39m=\u001b[39m\u001b[39m1\u001b[39m,\n\u001b[1;32m    696\u001b[0m             fill_value\u001b[39m=\u001b[39m(\n\u001b[1;32m    697\u001b[0m                 fill_value \u001b[39mif\u001b[39;00m fill_value \u001b[39mis\u001b[39;00m \u001b[39mnot\u001b[39;00m \u001b[39mNone\u001b[39;00m \u001b[39melse\u001b[39;00m blk\u001b[39m.\u001b[39mfill_value\n\u001b[1;32m    698\u001b[0m             ),\n\u001b[1;32m    699\u001b[0m         )\n\u001b[1;32m    700\u001b[0m         \u001b[39mfor\u001b[39;00m blk \u001b[39min\u001b[39;00m \u001b[39mself\u001b[39m\u001b[39m.\u001b[39mblocks\n\u001b[1;32m    701\u001b[0m     ]\n\u001b[1;32m    703\u001b[0m new_axes \u001b[39m=\u001b[39m \u001b[39mlist\u001b[39m(\u001b[39mself\u001b[39m\u001b[39m.\u001b[39maxes)\n\u001b[1;32m    704\u001b[0m new_axes[axis] \u001b[39m=\u001b[39m new_axis\n",
      "File \u001b[0;32m/opt/conda/lib/python3.8/site-packages/pandas/core/internals/managers.py:693\u001b[0m, in \u001b[0;36m<listcomp>\u001b[0;34m(.0)\u001b[0m\n\u001b[1;32m    685\u001b[0m     new_blocks \u001b[39m=\u001b[39m \u001b[39mself\u001b[39m\u001b[39m.\u001b[39m_slice_take_blocks_ax0(\n\u001b[1;32m    686\u001b[0m         indexer,\n\u001b[1;32m    687\u001b[0m         fill_value\u001b[39m=\u001b[39mfill_value,\n\u001b[1;32m    688\u001b[0m         only_slice\u001b[39m=\u001b[39monly_slice,\n\u001b[1;32m    689\u001b[0m         use_na_proxy\u001b[39m=\u001b[39muse_na_proxy,\n\u001b[1;32m    690\u001b[0m     )\n\u001b[1;32m    691\u001b[0m \u001b[39melse\u001b[39;00m:\n\u001b[1;32m    692\u001b[0m     new_blocks \u001b[39m=\u001b[39m [\n\u001b[0;32m--> 693\u001b[0m         blk\u001b[39m.\u001b[39;49mtake_nd(\n\u001b[1;32m    694\u001b[0m             indexer,\n\u001b[1;32m    695\u001b[0m             axis\u001b[39m=\u001b[39;49m\u001b[39m1\u001b[39;49m,\n\u001b[1;32m    696\u001b[0m             fill_value\u001b[39m=\u001b[39;49m(\n\u001b[1;32m    697\u001b[0m                 fill_value \u001b[39mif\u001b[39;49;00m fill_value \u001b[39mis\u001b[39;49;00m \u001b[39mnot\u001b[39;49;00m \u001b[39mNone\u001b[39;49;00m \u001b[39melse\u001b[39;49;00m blk\u001b[39m.\u001b[39;49mfill_value\n\u001b[1;32m    698\u001b[0m             ),\n\u001b[1;32m    699\u001b[0m         )\n\u001b[1;32m    700\u001b[0m         \u001b[39mfor\u001b[39;00m blk \u001b[39min\u001b[39;00m \u001b[39mself\u001b[39m\u001b[39m.\u001b[39mblocks\n\u001b[1;32m    701\u001b[0m     ]\n\u001b[1;32m    703\u001b[0m new_axes \u001b[39m=\u001b[39m \u001b[39mlist\u001b[39m(\u001b[39mself\u001b[39m\u001b[39m.\u001b[39maxes)\n\u001b[1;32m    704\u001b[0m new_axes[axis] \u001b[39m=\u001b[39m new_axis\n",
      "File \u001b[0;32m/opt/conda/lib/python3.8/site-packages/pandas/core/internals/blocks.py:1121\u001b[0m, in \u001b[0;36mBlock.take_nd\u001b[0;34m(self, indexer, axis, new_mgr_locs, fill_value)\u001b[0m\n\u001b[1;32m   1118\u001b[0m \u001b[39melse\u001b[39;00m:\n\u001b[1;32m   1119\u001b[0m     allow_fill \u001b[39m=\u001b[39m \u001b[39mTrue\u001b[39;00m\n\u001b[0;32m-> 1121\u001b[0m new_values \u001b[39m=\u001b[39m algos\u001b[39m.\u001b[39;49mtake_nd(\n\u001b[1;32m   1122\u001b[0m     values, indexer, axis\u001b[39m=\u001b[39;49maxis, allow_fill\u001b[39m=\u001b[39;49mallow_fill, fill_value\u001b[39m=\u001b[39;49mfill_value\n\u001b[1;32m   1123\u001b[0m )\n\u001b[1;32m   1125\u001b[0m \u001b[39m# Called from three places in managers, all of which satisfy\u001b[39;00m\n\u001b[1;32m   1126\u001b[0m \u001b[39m#  this assertion\u001b[39;00m\n\u001b[1;32m   1127\u001b[0m \u001b[39massert\u001b[39;00m \u001b[39mnot\u001b[39;00m (axis \u001b[39m==\u001b[39m \u001b[39m0\u001b[39m \u001b[39mand\u001b[39;00m new_mgr_locs \u001b[39mis\u001b[39;00m \u001b[39mNone\u001b[39;00m)\n",
      "File \u001b[0;32m/opt/conda/lib/python3.8/site-packages/pandas/core/array_algos/take.py:117\u001b[0m, in \u001b[0;36mtake_nd\u001b[0;34m(arr, indexer, axis, fill_value, allow_fill)\u001b[0m\n\u001b[1;32m    114\u001b[0m     \u001b[39mreturn\u001b[39;00m arr\u001b[39m.\u001b[39mtake(indexer, fill_value\u001b[39m=\u001b[39mfill_value, allow_fill\u001b[39m=\u001b[39mallow_fill)\n\u001b[1;32m    116\u001b[0m arr \u001b[39m=\u001b[39m np\u001b[39m.\u001b[39masarray(arr)\n\u001b[0;32m--> 117\u001b[0m \u001b[39mreturn\u001b[39;00m _take_nd_ndarray(arr, indexer, axis, fill_value, allow_fill)\n",
      "File \u001b[0;32m/opt/conda/lib/python3.8/site-packages/pandas/core/array_algos/take.py:158\u001b[0m, in \u001b[0;36m_take_nd_ndarray\u001b[0;34m(arr, indexer, axis, fill_value, allow_fill)\u001b[0m\n\u001b[1;32m    156\u001b[0m     out \u001b[39m=\u001b[39m np\u001b[39m.\u001b[39mempty(out_shape, dtype\u001b[39m=\u001b[39mdtype, order\u001b[39m=\u001b[39m\u001b[39m\"\u001b[39m\u001b[39mF\u001b[39m\u001b[39m\"\u001b[39m)\n\u001b[1;32m    157\u001b[0m \u001b[39melse\u001b[39;00m:\n\u001b[0;32m--> 158\u001b[0m     out \u001b[39m=\u001b[39m np\u001b[39m.\u001b[39;49mempty(out_shape, dtype\u001b[39m=\u001b[39;49mdtype)\n\u001b[1;32m    160\u001b[0m func \u001b[39m=\u001b[39m _get_take_nd_function(\n\u001b[1;32m    161\u001b[0m     arr\u001b[39m.\u001b[39mndim, arr\u001b[39m.\u001b[39mdtype, out\u001b[39m.\u001b[39mdtype, axis\u001b[39m=\u001b[39maxis, mask_info\u001b[39m=\u001b[39mmask_info\n\u001b[1;32m    162\u001b[0m )\n\u001b[1;32m    163\u001b[0m func(arr, indexer, out, fill_value)\n",
      "\u001b[0;31mMemoryError\u001b[0m: Unable to allocate 25.3 GiB for an array with shape (3, 1132193877) and data type object"
     ]
    }
   ],
   "source": [
    "pd.merge(no_inter_df, item_df, on='item', how = 'left') # memory error -> dataframe chunk"
   ]
  },
  {
   "cell_type": "code",
   "execution_count": 45,
   "metadata": {},
   "outputs": [],
   "source": [
    "# import pickle\n",
    "\n",
    "# with open('/opt/ml/bk/data/no_inter_items.pkl', 'wb') as f:\n",
    "#     pickle.dump(no_inter_dict, f)"
   ]
  },
  {
   "cell_type": "code",
   "execution_count": 12,
   "metadata": {},
   "outputs": [],
   "source": [
    "user_groupby=merge_df.groupby('user')"
   ]
  },
  {
   "cell_type": "code",
   "execution_count": 16,
   "metadata": {},
   "outputs": [
    {
     "data": {
      "text/plain": [
       "(11,\n",
       "       user  item        time    year   director      genre     writer\n",
       " 0       11  4643  1230782529  2001.0  nm0000318     Action  nm0099541\n",
       " 1       11  4643  1230782529  2001.0  nm0000318     Action  nm0115310\n",
       " 2       11  4643  1230782529  2001.0  nm0000318     Action  nm0465199\n",
       " 3       11  4643  1230782529  2001.0  nm0000318     Action  nm0742797\n",
       " 4       11  4643  1230782529  2001.0  nm0000318  Adventure  nm0099541\n",
       " ...    ...   ...         ...     ...        ...        ...        ...\n",
       " 4604    11  7153  1294796132  2003.0  nm0001392    Fantasy  nm0909638\n",
       " 4605    11  4226  1294796159  2000.0  nm0634240    Mystery  nm0634240\n",
       " 4606    11  4226  1294796159  2000.0  nm0634240    Mystery  nm0634300\n",
       " 4607    11  4226  1294796159  2000.0  nm0634240   Thriller  nm0634240\n",
       " 4608    11  4226  1294796159  2000.0  nm0634240   Thriller  nm0634300\n",
       " \n",
       " [4609 rows x 7 columns])"
      ]
     },
     "execution_count": 16,
     "metadata": {},
     "output_type": "execute_result"
    }
   ],
   "source": [
    "next(iter(user_groupby))"
   ]
  },
  {
   "cell_type": "code",
   "execution_count": 10,
   "metadata": {},
   "outputs": [
    {
     "name": "stdout",
     "output_type": "stream",
     "text": [
      "(11,       user  item        time    year   director      genre     writer\n",
      "0       11  4643  1230782529  2001.0  nm0000318     Action  nm0099541\n",
      "1       11  4643  1230782529  2001.0  nm0000318     Action  nm0115310\n",
      "2       11  4643  1230782529  2001.0  nm0000318     Action  nm0465199\n",
      "3       11  4643  1230782529  2001.0  nm0000318     Action  nm0742797\n",
      "4       11  4643  1230782529  2001.0  nm0000318  Adventure  nm0099541\n",
      "...    ...   ...         ...     ...        ...        ...        ...\n",
      "4604    11  7153  1294796132  2003.0  nm0001392    Fantasy  nm0909638\n",
      "4605    11  4226  1294796159  2000.0  nm0634240    Mystery  nm0634240\n",
      "4606    11  4226  1294796159  2000.0  nm0634240    Mystery  nm0634300\n",
      "4607    11  4226  1294796159  2000.0  nm0634240   Thriller  nm0634240\n",
      "4608    11  4226  1294796159  2000.0  nm0634240   Thriller  nm0634300\n",
      "\n",
      "[4609 rows x 7 columns])\n",
      "(14,       user  item        time    year   director      genre     writer\n",
      "4609    14  8961  1225308746  2004.0  nm0083348     Action  nm0083348\n",
      "4610    14  8961  1225308746  2004.0  nm0083348  Adventure  nm0083348\n",
      "4611    14  8961  1225308746  2004.0  nm0083348  Animation  nm0083348\n",
      "4612    14  8961  1225308746  2004.0  nm0083348   Children  nm0083348\n",
      "4613    14  8961  1225308746  2004.0  nm0083348     Comedy  nm0083348\n",
      "...    ...   ...         ...     ...        ...        ...        ...\n",
      "7687    14  1271  1225320523  1991.0  nm0000816     Comedy  nm0811807\n",
      "7688    14  1271  1225320523  1991.0  nm0000816      Crime  nm0811807\n",
      "7689    14  1271  1225320523  1991.0  nm0000816      Drama  nm0811807\n",
      "7690    14   468  1225320550  1995.0        NaN     Comedy  nm0003355\n",
      "7691    14   468  1225320550  1995.0        NaN    Romance  nm0003355\n",
      "\n",
      "[3083 rows x 7 columns])\n"
     ]
    }
   ],
   "source": [
    "i=0\n",
    "for user, group in merge_df.groupby('user') : \n",
    "    if i >=2 : \n",
    "        break\n",
    "    print(group)\n",
    "    i+=1"
   ]
  },
  {
   "cell_type": "code",
   "execution_count": 7,
   "metadata": {},
   "outputs": [
    {
     "data": {
      "text/plain": [
       "user              0\n",
       "item              0\n",
       "time              0\n",
       "year           6920\n",
       "director    1184231\n",
       "genre             0\n",
       "writer       695889\n",
       "dtype: int64"
      ]
     },
     "execution_count": 7,
     "metadata": {},
     "output_type": "execute_result"
    }
   ],
   "source": [
    "merge_df.isnull().sum()"
   ]
  },
  {
   "cell_type": "code",
   "execution_count": 18,
   "metadata": {},
   "outputs": [],
   "source": [
    "merge_idx_df = pd.DataFrame()\n",
    "merge_idx_df['user_idx'] = pd.factorize(merge_df['user'])[0]\n",
    "merge_idx_df['item_idx'] = pd.factorize(merge_df['item'])[0]\n",
    "merge_idx_df['time_idx'] = pd.factorize(merge_df['time'])[0]\n",
    "merge_idx_df['year_idx'] = pd.factorize(merge_df['year'])[0]\n",
    "merge_idx_df['director_idx'] = pd.factorize(merge_df['director'])[0]\n",
    "merge_idx_df['genre_idx'] = pd.factorize(merge_df['genre'])[0]\n",
    "merge_idx_df['writer_idx'] = pd.factorize(merge_df['writer'])[0]\n"
   ]
  },
  {
   "cell_type": "code",
   "execution_count": 24,
   "metadata": {},
   "outputs": [],
   "source": [
    "field_dims = np.max(merge_idx_df)"
   ]
  },
  {
   "cell_type": "code",
   "execution_count": 26,
   "metadata": {},
   "outputs": [
    {
     "data": {
      "text/plain": [
       "user_idx          31359\n",
       "item_idx         119145\n",
       "time_idx        5074972\n",
       "year_idx             92\n",
       "director_idx       1339\n",
       "genre_idx            17\n",
       "writer_idx         2988\n",
       "dtype: int64"
      ]
     },
     "execution_count": 26,
     "metadata": {},
     "output_type": "execute_result"
    }
   ],
   "source": [
    "field_dims"
   ]
  },
  {
   "cell_type": "code",
   "execution_count": 27,
   "metadata": {},
   "outputs": [
    {
     "data": {
      "text/plain": [
       "5229912"
      ]
     },
     "execution_count": 27,
     "metadata": {},
     "output_type": "execute_result"
    }
   ],
   "source": [
    "sum(field_dims)"
   ]
  },
  {
   "cell_type": "code",
   "execution_count": 31,
   "metadata": {},
   "outputs": [],
   "source": [
    "import torch"
   ]
  },
  {
   "cell_type": "code",
   "execution_count": 37,
   "metadata": {},
   "outputs": [
    {
     "data": {
      "text/plain": [
       "tensor([21086744])"
      ]
     },
     "execution_count": 37,
     "metadata": {},
     "output_type": "execute_result"
    }
   ],
   "source": [
    "torch.sum(torch.tensor(np.array((0, *np.cumsum(field_dims)[:-1]+1), dtype = np.int32)).unsqueeze(0), dim = 1)"
   ]
  },
  {
   "cell_type": "code",
   "execution_count": 6,
   "metadata": {},
   "outputs": [],
   "source": [
    "user_idx_dict = dict(zip(np.unique(pd.factorize(merge_df['user'])[0]), merge_df['user'].unique()))\n",
    "item_idx_dict = dict(zip(np.unique(pd.factorize(merge_df['item'])[0]), merge_df['item'].unique()))\n",
    "time_idx_dict = dict(zip(np.unique(pd.factorize(merge_df['time'])[0]), merge_df['time'].unique()))\n",
    "year_idx_dict = dict(zip(np.unique(pd.factorize(merge_df['year'])[0]), merge_df['year'].unique()))\n",
    "director_idx_dict = dict(zip(np.unique(pd.factorize(merge_df['director'])[0]), merge_df['director'].unique()))\n",
    "genre_idx_dict = dict(zip(np.unique(pd.factorize(merge_df['genre'])[0]), merge_df['genre'].unique()))\n",
    "writer_idx_dict = dict(zip(np.unique(pd.factorize(merge_df['writer'])[0]), merge_df['writer'].unique()))"
   ]
  },
  {
   "cell_type": "code",
   "execution_count": null,
   "metadata": {},
   "outputs": [],
   "source": []
  }
 ],
 "metadata": {
  "kernelspec": {
   "display_name": "base",
   "language": "python",
   "name": "python3"
  },
  "language_info": {
   "codemirror_mode": {
    "name": "ipython",
    "version": 3
   },
   "file_extension": ".py",
   "mimetype": "text/x-python",
   "name": "python",
   "nbconvert_exporter": "python",
   "pygments_lexer": "ipython3",
   "version": "3.8.5"
  },
  "orig_nbformat": 4,
  "vscode": {
   "interpreter": {
    "hash": "d4d1e4263499bec80672ea0156c357c1ee493ec2b1c70f0acce89fc37c4a6abe"
   }
  }
 },
 "nbformat": 4,
 "nbformat_minor": 2
}
